{
 "cells": [
  {
   "cell_type": "markdown",
   "metadata": {},
   "source": [
    "## Read the data"
   ]
  },
  {
   "cell_type": "code",
   "execution_count": 1,
   "metadata": {},
   "outputs": [],
   "source": [
    "# import libraries\n",
    "import pandas as pd\n",
    "import numpy as np\n",
    "import re\n",
    "import datetime\n",
    "from dateutil.relativedelta import relativedelta\n",
    "import math\n",
    "import matplotlib.pyplot as plt"
   ]
  },
  {
   "cell_type": "code",
   "execution_count": 2,
   "metadata": {},
   "outputs": [
    {
     "name": "stdout",
     "output_type": "stream",
     "text": [
      "initial df size: 28685\n",
      "size after removing null values: 28684\n",
      "size after removing non-english accounts: 18264\n"
     ]
    }
   ],
   "source": [
    "covid = pd.read_excel('data/covid_enriched.xlsx')\n",
    "covid['data_set'] = 'covid'\n",
    "random = pd.read_excel('data/random_enriched.xlsx')\n",
    "random['data_set'] = 'random'\n",
    "fiveG = pd.read_excel('data/5G_enriched.xlsx')\n",
    "fiveG['data_set'] = '5G'\n",
    "df = pd.concat([covid, random, fiveG])\n",
    "df['id_str'] = df['id_str'].astype(str)\n",
    "print(\"initial df size: \" + str(len(df)))\n",
    "df = df[df['created_at'].isnull() == False]\n",
    "print(\"size after removing null values: \" + str(len(df)))\n",
    "df = df[df['status_lang'] == 'en']\n",
    "print(\"size after removing non-english accounts: \" + str(len(df)))\n",
    "df = df.reset_index(drop=True)"
   ]
  },
  {
   "cell_type": "markdown",
   "metadata": {},
   "source": [
    "## Format data"
   ]
  },
  {
   "cell_type": "code",
   "execution_count": 3,
   "metadata": {},
   "outputs": [],
   "source": [
    "df['created_at'] = df['created_at'].apply(lambda x: datetime.datetime.strptime(str(x), '%a %b %d %H:%M:%S +0000 %Y'))\n",
    "df['status_created_at'] = df['status_created_at'].apply(lambda x: datetime.datetime.strptime(str(x), '%a %b %d %H:%M:%S +0000 %Y'))"
   ]
  },
  {
   "cell_type": "markdown",
   "metadata": {},
   "source": [
    "## Generate additional features"
   ]
  },
  {
   "cell_type": "code",
   "execution_count": 4,
   "metadata": {},
   "outputs": [],
   "source": [
    "# calculate account age\n",
    "df['user_age'] = df.apply(lambda x: x['status_created_at'] - x['created_at'], axis=1)\n",
    "df['user_age'] = df['user_age'].apply(lambda x: x.days + 1)\n",
    "\n",
    "# calculate growth rates\n",
    "df['tweet_freq'] = df.apply(lambda x: x['statuses_count']/x['user_age'], axis=1)\n",
    "df['followers_growth_rate'] = df.apply(lambda x: x['followers_count']/x['user_age'], axis=1)\n",
    "df['friends_growth_rate'] = df.apply(lambda x: x['friends_count']/x['user_age'], axis=1)\n",
    "df['favourites_growth_rate'] = df.apply(lambda x: x['favourites_count']/x['user_age'], axis=1)\n",
    "df['listed_growth_rate'] = df.apply(lambda x: x['listed_count']/x['user_age'], axis=1)\n",
    "\n",
    "# calculate ratios\n",
    "def divide(a, b):\n",
    "    if b == 0:\n",
    "        return np.nan\n",
    "    else: \n",
    "        return a/b   \n",
    "df['follower_friend_ratio'] = df.apply(lambda x: divide(x['followers_count'], x['friends_count']), axis=1)\n",
    "df['follower_favorites_ratio'] = df.apply(lambda x: divide(x['followers_count'], x['favourites_count']), axis=1)\n",
    "df = df.replace([np.inf, -np.inf], np.nan)\n",
    "df[\"follower_friend_ratio\"].fillna(\"0\", inplace = True)\n",
    "df[\"follower_favorites_ratio\"].fillna(\"0\", inplace = True)\n",
    "df['follower_friend_ratio'] = df['follower_friend_ratio'].astype(float)\n",
    "df['follower_friend_ratio'] = df['follower_friend_ratio'].round(10)\n",
    "df['follower_favorites_ratio'] = df['follower_favorites_ratio'].astype(float)\n",
    "df['follower_favorites_ratio'] = df['follower_favorites_ratio'].round(10)\n",
    "\n",
    "# calculate name length features\n",
    "df['name_length'] = df['name'].apply(lambda x: len(str(x)))\n",
    "df['description_length'] = df['description'].apply(lambda x: len(str(x)))\n",
    "df['screen_name_length'] = df['screen_name'].apply(lambda x: len(str(x)))\n",
    "df[\"screen_name_length\"].fillna(\"0\", inplace = True)\n",
    "df['num_digits_in_screen_name'] = df['screen_name'].apply(lambda x: len(re.findall(\"[0-9]\", x)))\n",
    "df['num_digits_in_name'] = df['name'].apply(lambda x: len(re.findall(\"[0-9]\", str(x))))\n",
    "\n",
    "# calculate screen name entropy\n",
    "def character_freq_distribution(screen_names):\n",
    "    \n",
    "    def split(word): \n",
    "        return [char for char in word]  \n",
    "\n",
    "    #split characters and combine into one column\n",
    "    characters = []\n",
    "    for name in screen_names:\n",
    "        characters = characters + split(name)\n",
    "    characters = pd.DataFrame({'value': characters})\n",
    "\n",
    "    #calculate character counts and frequency\n",
    "    char_freq = characters['value'].value_counts().reset_index()\n",
    "    char_freq.columns = ['character', 'count']\n",
    "    char_freq['freq'] = char_freq['count'].apply(lambda x: x/len(characters))\n",
    "    return char_freq\n",
    "\n",
    "def calc_screen_name_likelihood(screen_name, char_freq):\n",
    "    probabilities = char_freq['freq'][char_freq['character'].isin([char for char in screen_name])]\n",
    "    entropy = sum([-prob*math.log2(prob) for prob in probabilities])\n",
    "    return entropy \n",
    "\n",
    "screen_names = df['screen_name'].tolist()\n",
    "char_freq = character_freq_distribution(screen_names)\n",
    "df['screen_name_likelihood'] = df['screen_name'].apply(lambda x: calc_screen_name_likelihood(x, char_freq))"
   ]
  },
  {
   "cell_type": "markdown",
   "metadata": {},
   "source": [
    "## Filter to features and response"
   ]
  },
  {
   "cell_type": "code",
   "execution_count": 5,
   "metadata": {},
   "outputs": [],
   "source": [
    "user_metadata_cols = ['statuses_count', 'followers_count', 'friends_count',\n",
    "                      'favourites_count', 'listed_count', 'has_default_profile',\n",
    "                      'verified']\n",
    "derived_features = ['tweet_freq', 'followers_growth_rate', 'friends_growth_rate',\n",
    "                    'favourites_growth_rate', 'listed_growth_rate', 'follower_friend_ratio',\n",
    "                    'screen_name_length', 'num_digits_in_screen_name',\n",
    "                    'name_length', 'num_digits_in_name', 'description_length',\n",
    "                    'screen_name_likelihood']\n",
    "response = ['fake_follower_raw_en', 'cap_en']\n",
    "benchmark = ['bot_lite']\n",
    "df = df[user_metadata_cols + derived_features + response + benchmark]"
   ]
  },
  {
   "cell_type": "markdown",
   "metadata": {},
   "source": [
    "## Identify best performing combination of threshold values"
   ]
  },
  {
   "cell_type": "code",
   "execution_count": 6,
   "metadata": {},
   "outputs": [
    {
     "data": {
      "image/png": "[encoded data removed]",
      "text/plain": [
       "<Figure size 432x288 with 2 Axes>"
      ]
     },
     "metadata": {
      "needs_background": "light"
     },
     "output_type": "display_data"
    }
   ],
   "source": [
    "def tune_threshold(k):\n",
    "    bot_lite_threshold = k\n",
    "    benchmark = pd.DataFrame({'bot_lite_prediction': df['bot_lite'] >= bot_lite_threshold,\n",
    "                              'botometer_label': df['bot']})\n",
    "    true_pos = sum((benchmark['bot_lite_prediction'] == True) & (benchmark['botometer_label'] == True))\n",
    "    false_pos = sum((benchmark['bot_lite_prediction'] == True) & (benchmark['botometer_label'] == False))\n",
    "    true_neg = sum((benchmark['bot_lite_prediction'] == False) & (benchmark['botometer_label'] == False))\n",
    "    false_neg = sum((benchmark['bot_lite_prediction'] == False) & (benchmark['botometer_label'] == True))\n",
    "    precision = true_pos/(true_pos + false_pos)\n",
    "    recall = true_pos/(true_pos + false_neg)\n",
    "    f1 = 0\n",
    "    try:\n",
    "        f1 = 2*(precision*recall)/(precision+recall)\n",
    "    except:\n",
    "        pass\n",
    "    return f1, precision, recall\n",
    "\n",
    "threshold_increments = [0.05, 0.1, 0.15, 0.2, 0.25, 0.3, 0.35, 0.4, 0.45, 0.5, 0.55, 0.6, 0.65, 0.7, 0.75, 0.8, 0.85, 0.9]\n",
    "\n",
    "# Perform a grid search for the top F1 score\n",
    "f1_scores = []\n",
    "for j in threshold_increments[::-1]:\n",
    "    df['bot'] = df['fake_follower_raw_en'] >= j\n",
    "    for k in threshold_increments[::-1]:        \n",
    "        f1 = pd.DataFrame({'j': [j],\n",
    "                           'k': [k],\n",
    "                           'precision': tune_threshold(k)[1],\n",
    "                           'recall': tune_threshold(k)[2],\n",
    "                           'f1': tune_threshold(k)[0]})        \n",
    "        #print(f1)\n",
    "        f1_scores.append(f1)\n",
    "f1_scores = pd.concat(f1_scores)\n",
    "\n",
    "marks = np.array([f1_scores['f1'][f1_scores['j'] == 0.9].tolist()[::-1],\n",
    "                  f1_scores['f1'][f1_scores['j'] == 0.85].tolist()[::-1],\n",
    "                  f1_scores['f1'][f1_scores['j'] == 0.8].tolist()[::-1],\n",
    "                  f1_scores['f1'][f1_scores['j'] == 0.75].tolist()[::-1],\n",
    "                  f1_scores['f1'][f1_scores['j'] == 0.7].tolist()[::-1],\n",
    "                  f1_scores['f1'][f1_scores['j'] == 0.65].tolist()[::-1],\n",
    "                  f1_scores['f1'][f1_scores['j'] == 0.6].tolist()[::-1],\n",
    "                  f1_scores['f1'][f1_scores['j'] == 0.55].tolist()[::-1],\n",
    "                  f1_scores['f1'][f1_scores['j'] == 0.5].tolist()[::-1],\n",
    "                  f1_scores['f1'][f1_scores['j'] == 0.45].tolist()[::-1],\n",
    "                  f1_scores['f1'][f1_scores['j'] == 0.4].tolist()[::-1],\n",
    "                  f1_scores['f1'][f1_scores['j'] == 0.35].tolist()[::-1],\n",
    "                  f1_scores['f1'][f1_scores['j'] == 0.3].tolist()[::-1],\n",
    "                  f1_scores['f1'][f1_scores['j'] == 0.25].tolist()[::-1],\n",
    "                  f1_scores['f1'][f1_scores['j'] == 0.2].tolist()[::-1],\n",
    "                  f1_scores['f1'][f1_scores['j'] == 0.15].tolist()[::-1],\n",
    "                  f1_scores['f1'][f1_scores['j'] == 0.1].tolist()[::-1],\n",
    "                  f1_scores['f1'][f1_scores['j'] == 0.05].tolist()[::-1]])\n",
    " \n",
    "\n",
    "plt.xticks(ticks=np.arange(len(threshold_increments)),labels=threshold_increments,rotation=90)\n",
    "plt.yticks(ticks=np.arange(len(threshold_increments[::-1])),labels=threshold_increments[::-1])\n",
    "# save this plot inside a variable called hm\n",
    "hm=plt.imshow(marks, cmap='Blues',interpolation=\"nearest\")\n",
    "# pass this heatmap object into plt.colorbar method.\n",
    "plt.xlabel('BotometerLite Score')\n",
    "plt.ylabel('Botometer Fake Follower Score')\n",
    "plt.colorbar(hm, fraction=0.046, pad=0.04)\n",
    "plt.rcParams[\"figure.figsize\"]=5,5"
   ]
  },
  {
   "cell_type": "code",
   "execution_count": 7,
   "metadata": {},
   "outputs": [
    {
     "data": {
      "text/plain": [
       "Text(0, 0.5, 'F1 Score')"
      ]
     },
     "execution_count": 7,
     "metadata": {},
     "output_type": "execute_result"
    },
    {
     "data": {
      "image/png": "[encoded data removed]",
      "text/plain": [
       "<Figure size 360x360 with 1 Axes>"
      ]
     },
     "metadata": {
      "needs_background": "light"
     },
     "output_type": "display_data"
    }
   ],
   "source": [
    "df['bot'] = df['fake_follower_raw_en'] >= 0.5\n",
    "f1_scores = []\n",
    "for k in range(0,100):\n",
    "    f1 = pd.DataFrame({'k': [k/100],\n",
    "                       'f1': tune_threshold(k/100)[0]})    \n",
    "    f1_scores.append(f1)\n",
    "f1_scores = pd.concat(f1_scores)\n",
    "plt.scatter(f1_scores.k, f1_scores.f1)\n",
    "plt.xlabel('BotometerLite Score')\n",
    "plt.ylabel('F1 Score')"
   ]
  },
  {
   "cell_type": "code",
   "execution_count": 8,
   "metadata": {},
   "outputs": [
    {
     "data": {
      "text/plain": [
       "Text(0, 0.5, 'F1 Score')"
      ]
     },
     "execution_count": 8,
     "metadata": {},
     "output_type": "execute_result"
    },
    {
     "data": {
      "image/png": "[encoded data removed]",
      "text/plain": [
       "<Figure size 360x360 with 1 Axes>"
      ]
     },
     "metadata": {
      "needs_background": "light"
     },
     "output_type": "display_data"
    }
   ],
   "source": [
    "df['bot'] = df['fake_follower_raw_en'] >= 0.6\n",
    "f1_scores = []\n",
    "for k in range(0,100):\n",
    "    f1 = pd.DataFrame({'k': [k/100],\n",
    "                       'f1': tune_threshold(k/100)[0]})    \n",
    "    f1_scores.append(f1)\n",
    "f1_scores = pd.concat(f1_scores)\n",
    "plt.scatter(f1_scores.k, f1_scores.f1)\n",
    "plt.xlabel('BotometerLite Score')\n",
    "plt.ylabel('F1 Score')"
   ]
  },
  {
   "cell_type": "code",
   "execution_count": 9,
   "metadata": {},
   "outputs": [
    {
     "data": {
      "text/plain": [
       "Text(0, 0.5, 'F1 Score')"
      ]
     },
     "execution_count": 9,
     "metadata": {},
     "output_type": "execute_result"
    },
    {
     "data": {
      "image/png": "[encoded data removed]",
      "text/plain": [
       "<Figure size 360x360 with 1 Axes>"
      ]
     },
     "metadata": {
      "needs_background": "light"
     },
     "output_type": "display_data"
    }
   ],
   "source": [
    "df['bot'] = df['fake_follower_raw_en'] >= 0.7\n",
    "f1_scores = []\n",
    "for k in range(0,100):\n",
    "    f1 = pd.DataFrame({'k': [k/100],\n",
    "                       'f1': tune_threshold(k/100)[0]})    \n",
    "    f1_scores.append(f1)\n",
    "f1_scores = pd.concat(f1_scores)\n",
    "plt.scatter(f1_scores.k, f1_scores.f1)\n",
    "plt.xlabel('BotometerLite Score')\n",
    "plt.ylabel('F1 Score')"
   ]
  },
  {
   "cell_type": "code",
   "execution_count": 10,
   "metadata": {},
   "outputs": [],
   "source": [
    "df['bot'] = df['fake_follower_raw_en'] >= 0.5\n",
    "df['bot'].value_counts()\n",
    "df.to_excel(\"data/processed_data.xlsx\")"
   ]
  }
 ],
 "metadata": {
  "kernelspec": {
   "display_name": "forcenexus",
   "language": "python",
   "name": "forcenexus"
  },
  "language_info": {
   "codemirror_mode": {
    "name": "ipython",
    "version": 3
   },
   "file_extension": ".py",
   "mimetype": "text/x-python",
   "name": "python",
   "nbconvert_exporter": "python",
   "pygments_lexer": "ipython3",
   "version": "3.8.2"
  }
 },
 "nbformat": 4,
 "nbformat_minor": 4
}
