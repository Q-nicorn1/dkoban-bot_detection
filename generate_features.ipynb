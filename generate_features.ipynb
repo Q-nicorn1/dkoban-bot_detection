{
 "cells": [
  {
   "cell_type": "markdown",
   "metadata": {},
   "source": [
    "## Read the data"
   ]
  },
  {
   "cell_type": "code",
   "execution_count": 1,
   "metadata": {},
   "outputs": [],
   "source": [
    "# import libraries\n",
    "import pandas as pd\n",
    "import numpy as np\n",
    "import re\n",
    "import datetime\n",
    "from dateutil.relativedelta import relativedelta\n",
    "import math"
   ]
  },
  {
   "cell_type": "code",
   "execution_count": 2,
   "metadata": {},
   "outputs": [
    {
     "name": "stdout",
     "output_type": "stream",
     "text": [
      "initial df size: 28685\n",
      "size after removing null values: 28684\n",
      "size after removing non-english accounts: 18264\n"
     ]
    }
   ],
   "source": [
    "covid = pd.read_excel('data/covid_enriched.xlsx')\n",
    "covid['data_set'] = 'covid'\n",
    "random = pd.read_excel('data/random_enriched.xlsx')\n",
    "random['data_set'] = 'random'\n",
    "fiveG = pd.read_excel('data/5G_enriched.xlsx')\n",
    "fiveG['data_set'] = '5G'\n",
    "df = pd.concat([covid, random, fiveG])\n",
    "df['id_str'] = df['id_str'].astype(str)\n",
    "print(\"initial df size: \" + str(len(df)))\n",
    "df = df[df['created_at'].isnull() == False]\n",
    "print(\"size after removing null values: \" + str(len(df)))\n",
    "df = df[df['status_lang'] == 'en']\n",
    "print(\"size after removing non-english accounts: \" + str(len(df)))\n",
    "df = df.reset_index(drop=True)"
   ]
  },
  {
   "cell_type": "markdown",
   "metadata": {},
   "source": [
    "## Format data"
   ]
  },
  {
   "cell_type": "code",
   "execution_count": 3,
   "metadata": {},
   "outputs": [],
   "source": [
    "df['created_at'] = df['created_at'].apply(lambda x: datetime.datetime.strptime(str(x), '%a %b %d %H:%M:%S +0000 %Y'))\n",
    "df['status_created_at'] = df['status_created_at'].apply(lambda x: datetime.datetime.strptime(str(x), '%a %b %d %H:%M:%S +0000 %Y'))"
   ]
  },
  {
   "cell_type": "markdown",
   "metadata": {},
   "source": [
    "## Generate additional features"
   ]
  },
  {
   "cell_type": "code",
   "execution_count": 4,
   "metadata": {},
   "outputs": [],
   "source": [
    "# calculate account age\n",
    "df['user_age'] = df.apply(lambda x: x['status_created_at'] - x['created_at'], axis=1)\n",
    "df['user_age'] = df['user_age'].apply(lambda x: x.days + 1)\n",
    "\n",
    "# calculate growth rates\n",
    "df['tweet_freq'] = df.apply(lambda x: x['statuses_count']/x['user_age'], axis=1)\n",
    "df['followers_growth_rate'] = df.apply(lambda x: x['followers_count']/x['user_age'], axis=1)\n",
    "df['friends_growth_rate'] = df.apply(lambda x: x['friends_count']/x['user_age'], axis=1)\n",
    "df['favourites_growth_rate'] = df.apply(lambda x: x['favourites_count']/x['user_age'], axis=1)\n",
    "df['listed_growth_rate'] = df.apply(lambda x: x['listed_count']/x['user_age'], axis=1)\n",
    "\n",
    "# calculate ratios\n",
    "def divide(a, b):\n",
    "    if b == 0:\n",
    "        return np.nan\n",
    "    else: \n",
    "        return a/b   \n",
    "df['follower_friend_ratio'] = df.apply(lambda x: divide(x['followers_count'], x['friends_count']), axis=1)\n",
    "df['follower_favorites_ratio'] = df.apply(lambda x: divide(x['followers_count'], x['favourites_count']), axis=1)\n",
    "df = df.replace([np.inf, -np.inf], np.nan)\n",
    "df[\"follower_friend_ratio\"].fillna(\"0\", inplace = True)\n",
    "df[\"follower_favorites_ratio\"].fillna(\"0\", inplace = True)\n",
    "df['follower_friend_ratio'] = df['follower_friend_ratio'].astype(float)\n",
    "df['follower_friend_ratio'] = df['follower_friend_ratio'].round(10)\n",
    "df['follower_favorites_ratio'] = df['follower_favorites_ratio'].astype(float)\n",
    "df['follower_favorites_ratio'] = df['follower_favorites_ratio'].round(10)\n",
    "\n",
    "# calculate name length features\n",
    "df['name_length'] = df['name'].apply(lambda x: len(str(x)))\n",
    "df['description_length'] = df['description'].apply(lambda x: len(str(x)))\n",
    "df['screen_name_length'] = df['screen_name'].apply(lambda x: len(str(x)))\n",
    "df[\"screen_name_length\"].fillna(\"0\", inplace = True)\n",
    "df['num_digits_in_screen_name'] = df['screen_name'].apply(lambda x: len(re.findall(\"[0-9]\", x)))\n",
    "df['num_digits_in_name'] = df['name'].apply(lambda x: len(re.findall(\"[0-9]\", str(x))))\n",
    "\n",
    "# calculate screen name entropy\n",
    "def character_freq_distribution(screen_names):\n",
    "    \n",
    "    def split(word): \n",
    "        return [char for char in word]  \n",
    "\n",
    "    #split characters and combine into one column\n",
    "    characters = []\n",
    "    for name in screen_names:\n",
    "        characters = characters + split(name)\n",
    "    characters = pd.DataFrame({'value': characters})\n",
    "\n",
    "    #calculate character counts and frequency\n",
    "    char_freq = characters['value'].value_counts().reset_index()\n",
    "    char_freq.columns = ['character', 'count']\n",
    "    char_freq['freq'] = char_freq['count'].apply(lambda x: x/len(characters))\n",
    "    return char_freq\n",
    "\n",
    "def calc_screen_name_likelihood(screen_name, char_freq):\n",
    "    probabilities = char_freq['freq'][char_freq['character'].isin([char for char in screen_name])]\n",
    "    entropy = sum([-prob*math.log2(prob) for prob in probabilities])\n",
    "    return entropy \n",
    "\n",
    "screen_names = df['screen_name'].tolist()\n",
    "char_freq = character_freq_distribution(screen_names)\n",
    "df['screen_name_likelihood'] = df['screen_name'].apply(lambda x: calc_screen_name_likelihood(x, char_freq))"
   ]
  },
  {
   "cell_type": "markdown",
   "metadata": {},
   "source": [
    "## Filter to features and response"
   ]
  },
  {
   "cell_type": "code",
   "execution_count": 9,
   "metadata": {},
   "outputs": [],
   "source": [
    "user_metadata_cols = ['statuses_count', 'followers_count', 'friends_count',\n",
    "                      'favourites_count', 'listed_count', 'has_default_profile',\n",
    "                      'verified']\n",
    "derived_features = ['tweet_freq', 'followers_growth_rate', 'friends_growth_rate',\n",
    "                    'favourites_growth_rate', 'listed_growth_rate', 'follower_friend_ratio',\n",
    "                    'screen_name_length', 'num_digits_in_screen_name',\n",
    "                    'name_length', 'num_digits_in_name', 'description_length',\n",
    "                    'screen_name_likelihood']\n",
    "response = ['fake_follower_raw_en']\n",
    "benchmark = ['bot_lite']"
   ]
  },
  {
   "cell_type": "code",
   "execution_count": 10,
   "metadata": {},
   "outputs": [
    {
     "data": {
      "text/plain": [
       "False    18041\n",
       "True       223\n",
       "Name: bot, dtype: int64"
      ]
     },
     "execution_count": 10,
     "metadata": {},
     "output_type": "execute_result"
    }
   ],
   "source": [
    "df = df[user_metadata_cols + derived_features + response + benchmark]\n",
    "df['bot'] = df['fake_follower_raw_en'] >= 0.75\n",
    "df['bot'].value_counts()"
   ]
  },
  {
   "cell_type": "code",
   "execution_count": 11,
   "metadata": {},
   "outputs": [
    {
     "data": {
      "text/plain": [
       "0.012209811651335962"
      ]
     },
     "execution_count": 11,
     "metadata": {},
     "output_type": "execute_result"
    }
   ],
   "source": [
    "223/len(df)"
   ]
  },
  {
   "cell_type": "code",
   "execution_count": 12,
   "metadata": {},
   "outputs": [],
   "source": [
    "df.to_excel(\"data/processed_data.xlsx\")"
   ]
  }
 ],
 "metadata": {
  "kernelspec": {
   "display_name": "forcenexus",
   "language": "python",
   "name": "forcenexus"
  },
  "language_info": {
   "codemirror_mode": {
    "name": "ipython",
    "version": 3
   },
   "file_extension": ".py",
   "mimetype": "text/x-python",
   "name": "python",
   "nbconvert_exporter": "python",
   "pygments_lexer": "ipython3",
   "version": "3.8.2"
  }
 },
 "nbformat": 4,
 "nbformat_minor": 4
}
